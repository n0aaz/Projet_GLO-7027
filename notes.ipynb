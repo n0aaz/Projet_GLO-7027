{
 "cells": [
  {
   "cell_type": "markdown",
   "metadata": {},
   "source": [
    "#### Notes sur le projet\n",
    "\n",
    "- Il faudrait commencer par réduire le nombre de colonnes du DataFrame de base, et ensuite créer un second DataFrame auquel on ajoute de plus en plus de colonnes traitées\n",
    "- Il faut agréger les réponses aux questions \"étiquette\" en une colonne et isoler les 1000 qui n'ont que des NaNs à ces questions (ils correspondent aux exemples de test);\n",
    "- Certaines questions peuvent être retirées, notamment:\n",
    "    - celles qui ont un nombre énorme de réponses uniques (>125, 48 questions);\n",
    "    - celles qui ont zéro ou 1 réponse unique (137 questions);\n",
    "    - celles qui interrogent la connaissance politique des répondants (par exemple, \"Quel est le nom de votre premier ministre provincial?\" (cps19_premier_name));\n",
    "    - celles qui sont de format texte libre.\n",
    "- Remplacer les NaNs par 0 peut être utile à l'apprentissage en autant que 0 ne représente pas déjà une valeur importante à la feature.\n",
    "    - Jumeler les features ayant beaucoup de données manquantes avec un flag pour dire qu'elles sont manquantes.\n",
    "- Il faut regrouper les questions à choix multiples en 1 question à l'aide d'un mapping.\n",
    "- Il faut normaliser les données:\n",
    "    - Questions allant de 1 à 10 unipolaire: normaliser entre -1 et 1\n",
    "    - Questions allant de 0 à 100: normaliser entre 0 et 1\n",
    "    - Questions likert (de très désaccord à très accord): normaliser vers -1 et 1\n",
    "    - Questions à deux choix: mettre binaire [0, 1] (par exemple: \"Citoyen ou résident permanent\")\n",
    "- Il faut mettre beaucoup de poids sur les questions:\n",
    "    - qui demandent l'appréciation des candidats (cps19_cand_rating);\n",
    "    - qui demandent la position politique gauche/droite des répondants (cps19_lr_scale_bef)\n",
    "- Dans le cas du Bloc, on pourrait créer une feature qui indique par 1 ou 0 si le répondant habite au Québec.\n",
    "- Faire une sélection de jusqu'à 50 features qui semblent pertinentes afin de les comparer à la sélection de l'agent\n",
    "\n",
    "### Patrons\n",
    "- Ce serait bien de transformer une liste de mots en un seul mot (\"justin trudeau\" -> \"trudeau\")"
   ]
  }
 ],
 "metadata": {
  "language_info": {
   "name": "python"
  },
  "orig_nbformat": 4
 },
 "nbformat": 4,
 "nbformat_minor": 2
}
