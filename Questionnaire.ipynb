{
 "cells": [
  {
   "cell_type": "markdown",
   "metadata": {},
   "source": [
    "## Importations et chargement"
   ]
  },
  {
   "cell_type": "code",
   "execution_count": 3,
   "metadata": {},
   "outputs": [],
   "source": [
    "import pandas as pd\n",
    "import numpy as np\n",
    "import matplotlib.pyplot as plt\n",
    "csv_path = 'data/CES19.csv'\n"
   ]
  },
  {
   "cell_type": "code",
   "execution_count": 4,
   "metadata": {},
   "outputs": [
    {
     "name": "stderr",
     "output_type": "stream",
     "text": [
      "C:\\Users\\Melvin\\AppData\\Local\\Programs\\Python\\Python37\\lib\\site-packages\\IPython\\core\\interactiveshell.py:3147: DtypeWarning: Columns (25,27,28,30,31,33,34,39,179,181,188,192,193,199,210,227,234,236,237,239,240,243,276,299,302,311,314,315,316,327,362,417,418,421,422,423,424,425,431,464,465,468,538,541,578,579,582,583,584) have mixed types.Specify dtype option on import or set low_memory=False.\n",
      "  interactivity=interactivity, compiler=compiler, result=result)\n"
     ]
    }
   ],
   "source": [
    "dataframe = pd.read_csv(csv_path)\n",
    "dataframe.head()\n",
    "\n",
    "df_columns = dataframe.columns"
   ]
  },
  {
   "cell_type": "markdown",
   "metadata": {},
   "source": [
    "Quelques statistiques sur nos colonnes et leur distribution: "
   ]
  },
  {
   "cell_type": "code",
   "execution_count": 5,
   "metadata": {},
   "outputs": [
    {
     "name": "stdout",
     "output_type": "stream",
     "text": [
      "Index(['Unnamed: 0', 'cps19_StartDate', 'cps19_EndDate', 'cps19_ResponseId',\n",
      "       'cps19_consent', 'cps19_citizenship', 'cps19_yob', 'cps19_yob_2001_age',\n",
      "       'cps19_gender', 'cps19_province',\n",
      "       ...\n",
      "       'split_vol_assoc', 'pes19_data_quality', 'pes19_panel', 'pes19_age',\n",
      "       'pes19_duplicates_flag', 'pes19_inattentive',\n",
      "       'cps19_weight_general_all', 'cps19_weight_general_restricted',\n",
      "       'pes19_weight_general_all', 'pes19_weight_general_restricted'],\n",
      "      dtype='object', length=621)\n",
      "\n",
      "Il y a 621 attributs.\n",
      "\n",
      "RangeIndex(start=0, stop=37822, step=1)\n",
      "Description : \n",
      "          Unnamed: 0     cps19_yob  cps19_yob_2001_age  cps19_interest_gen_1  \\\n",
      "count  37822.000000  37822.000000               293.0          35409.000000   \n",
      "mean   18911.500000   1970.308709                18.0              6.453077   \n",
      "std    10918.415277     16.611707                 0.0              2.478729   \n",
      "min        1.000000   1920.000000                18.0              0.000000   \n",
      "25%     9456.250000   1957.000000                18.0              5.000000   \n",
      "50%    18911.500000   1970.000000                18.0              7.000000   \n",
      "75%    28366.750000   1984.000000                18.0              8.000000   \n",
      "max    37822.000000   2001.000000                18.0             10.000000   \n",
      "\n",
      "       cps19_interest_elxn_1  cps19_vote_unlike_pr_7_TEXT  \\\n",
      "count           35536.000000                          0.0   \n",
      "mean                7.087292                          NaN   \n",
      "std                 2.475382                          NaN   \n",
      "min                 0.000000                          NaN   \n",
      "25%                 6.000000                          NaN   \n",
      "50%                 8.000000                          NaN   \n",
      "75%                 9.000000                          NaN   \n",
      "max                10.000000                          NaN   \n",
      "\n",
      "       cps19_vote_lean_pr_7_TEXT  cps19_party_rating_23  \\\n",
      "count                        0.0           35176.000000   \n",
      "mean                         NaN              48.362491   \n",
      "std                          NaN              33.280149   \n",
      "min                          NaN               0.000000   \n",
      "25%                          NaN              16.000000   \n",
      "50%                          NaN              54.000000   \n",
      "75%                          NaN              77.000000   \n",
      "max                          NaN             100.000000   \n",
      "\n",
      "       cps19_party_rating_24  cps19_party_rating_25  ...  split_hatespeech  \\\n",
      "count           35022.000000           33962.000000  ...      10251.000000   \n",
      "mean               43.611587              50.032860  ...          0.504146   \n",
      "std                33.949185              29.395139  ...          0.500007   \n",
      "min                 0.000000               0.000000  ...          0.000000   \n",
      "25%                10.000000              27.000000  ...          0.000000   \n",
      "50%                41.000000              54.000000  ...          1.000000   \n",
      "75%                74.000000              73.000000  ...          1.000000   \n",
      "max               100.000000             100.000000  ...          1.000000   \n",
      "\n",
      "       split_vol_assoc  pes19_data_quality     pes19_age  \\\n",
      "count     10251.000000        10340.000000  10340.000000   \n",
      "mean          0.503073            2.731044     54.380754   \n",
      "std           0.500015            5.563472     15.556598   \n",
      "min           0.000000            0.000000     18.000000   \n",
      "25%           0.000000            0.000000     42.000000   \n",
      "50%           1.000000            0.000000     57.000000   \n",
      "75%           1.000000            0.000000     66.000000   \n",
      "max           1.000000           15.000000     99.000000   \n",
      "\n",
      "       pes19_duplicates_flag  pes19_inattentive  cps19_weight_general_all  \\\n",
      "count           10340.000000       10340.000000              37733.000000   \n",
      "mean                0.022631           0.055222                  1.001669   \n",
      "std                 0.148730           0.228425                  0.549895   \n",
      "min                 0.000000           0.000000                  0.200000   \n",
      "25%                 0.000000           0.000000                  0.644238   \n",
      "50%                 0.000000           0.000000                  0.838045   \n",
      "75%                 0.000000           0.000000                  1.200770   \n",
      "max                 1.000000           1.000000                  5.000000   \n",
      "\n",
      "       cps19_weight_general_restricted  pes19_weight_general_all  \\\n",
      "count                     33822.000000              10325.000000   \n",
      "mean                          1.001635                  1.001021   \n",
      "std                           0.551240                  0.845355   \n",
      "min                           0.200000                  0.200000   \n",
      "25%                           0.635656                  0.437200   \n",
      "50%                           0.844196                  0.743061   \n",
      "75%                           1.205593                  1.216033   \n",
      "max                           5.000000                  5.000000   \n",
      "\n",
      "       pes19_weight_general_restricted  \n",
      "count                      8299.000000  \n",
      "mean                          1.001167  \n",
      "std                           0.826845  \n",
      "min                           0.200000  \n",
      "25%                           0.443264  \n",
      "50%                           0.766621  \n",
      "75%                           1.233630  \n",
      "max                           5.000000  \n",
      "\n",
      "[8 rows x 139 columns]\n"
     ]
    }
   ],
   "source": [
    "print(df_columns)\n",
    "print(f\"\\nIl y a {len(df_columns)} attributs.\\n\")\n",
    "print(dataframe.index)\n",
    "print(\"Description : \\n\", dataframe.describe())"
   ]
  },
  {
   "cell_type": "markdown",
   "metadata": {},
   "source": [
    "### Q1 \n",
    "Il y a **37822 individus** et **621 attributs**."
   ]
  },
  {
   "cell_type": "code",
   "execution_count": 6,
   "metadata": {},
   "outputs": [],
   "source": [
    "na_df = dataframe.isna()\n"
   ]
  },
  {
   "cell_type": "markdown",
   "metadata": {},
   "source": [
    "### Q2"
   ]
  },
  {
   "cell_type": "code",
   "execution_count": 7,
   "metadata": {},
   "outputs": [
    {
     "name": "stdout",
     "output_type": "stream",
     "text": [
      "Il y a 60 colonnes sans aucune valeur manquante\n"
     ]
    }
   ],
   "source": [
    "columns_without_missing = [ column for column in na_df.columns if not na_df[column].any()]\n",
    "print(f\"Il y a {len(columns_without_missing)} colonnes sans aucune valeur manquante\")"
   ]
  },
  {
   "cell_type": "markdown",
   "metadata": {},
   "source": [
    "### Q3"
   ]
  },
  {
   "cell_type": "code",
   "execution_count": 8,
   "metadata": {},
   "outputs": [],
   "source": [
    "def count(column):\n",
    "    return(np.sum(column))\n",
    "\n",
    "count_na_df = na_df.copy().apply(count)"
   ]
  },
  {
   "cell_type": "code",
   "execution_count": 9,
   "metadata": {},
   "outputs": [
    {
     "name": "stdout",
     "output_type": "stream",
     "text": [
      "Unnamed: 0                             0\n",
      "cps19_StartDate                        0\n",
      "cps19_EndDate                          0\n",
      "cps19_ResponseId                       0\n",
      "cps19_consent                          0\n",
      "                                   ...  \n",
      "pes19_inattentive                  27482\n",
      "cps19_weight_general_all              89\n",
      "cps19_weight_general_restricted     4000\n",
      "pes19_weight_general_all           27497\n",
      "pes19_weight_general_restricted    29523\n",
      "Length: 621, dtype: int64\n"
     ]
    }
   ],
   "source": [
    "print(count_na_df)"
   ]
  },
  {
   "cell_type": "code",
   "execution_count": 24,
   "metadata": {},
   "outputs": [
    {
     "data": {
      "text/plain": [
       "Text(0, 0.5, \"# d'attributs\")"
      ]
     },
     "execution_count": 24,
     "metadata": {},
     "output_type": "execute_result"
    },
    {
     "data": {
      "image/png": "[encoded data removed]",
      "text/plain": [
       "<Figure size 432x288 with 1 Axes>"
      ]
     },
     "metadata": {
      "needs_background": "light"
     },
     "output_type": "display_data"
    }
   ],
   "source": [
    "histPlot = (count_na_df/len(dataframe\n",
    "                            )*100).hist(bins=10)\n",
    "plt.title(\"Nombre d'attributs manquants par numéro d'attribut\")\n",
    "plt.xlabel(\"pourcentage de valeurs manquantes\")\n",
    "plt.ylabel(\"# d'attributs\")\n"
   ]
  },
  {
   "cell_type": "markdown",
   "metadata": {},
   "source": [
    "On constate que l'écrasante majorité des attributs (125+150+175 / 600 = 75%) a plus de 25000 valeurs manquantes ce qui est énorme."
   ]
  },
  {
   "cell_type": "markdown",
   "metadata": {},
   "source": [
    "### Q4"
   ]
  },
  {
   "cell_type": "code",
   "execution_count": 11,
   "metadata": {},
   "outputs": [
    {
     "name": "stdout",
     "output_type": "stream",
     "text": [
      "2019-09-13 04:09:44\n",
      "1571616000.0\n"
     ]
    }
   ],
   "source": [
    "\n",
    "print(pd.Timestamp(dataframe[\"cps19_StartDate\"][0]))\n",
    "\n",
    "ts_election = pd.Timestamp(year =2019,month =10,day =21).timestamp()\n",
    "print(ts_election)\n",
    "ts_dates= dataframe[\"cps19_StartDate\"].apply((lambda x: pd.Timestamp(x).timestamp()) )"
   ]
  },
  {
   "cell_type": "code",
   "execution_count": 12,
   "metadata": {},
   "outputs": [
    {
     "name": "stdout",
     "output_type": "stream",
     "text": [
      "37822\n"
     ]
    }
   ],
   "source": [
    "print(ts_dates.count())\n",
    "ts_dates = ts_dates[ts_dates>=ts_election]"
   ]
  },
  {
   "cell_type": "code",
   "execution_count": 13,
   "metadata": {},
   "outputs": [
    {
     "name": "stdout",
     "output_type": "stream",
     "text": [
      "Il y a 134 personnes ayant voté le jour de l'élection ou après\n"
     ]
    }
   ],
   "source": [
    "print(f\"Il y a {ts_dates.count()} personnes ayant voté le jour de l'élection ou après\")"
   ]
  },
  {
   "cell_type": "markdown",
   "metadata": {},
   "source": [
    "### Q5"
   ]
  },
  {
   "cell_type": "markdown",
   "metadata": {},
   "source": [
    "![](2022-01-28-11-40-24.png)"
   ]
  },
  {
   "cell_type": "markdown",
   "metadata": {},
   "source": [
    "### Q6"
   ]
  },
  {
   "cell_type": "markdown",
   "metadata": {},
   "source": [
    "![](2022-01-28-11-44-10.png)"
   ]
  },
  {
   "cell_type": "markdown",
   "metadata": {},
   "source": [
    "### Q7"
   ]
  },
  {
   "cell_type": "code",
   "execution_count": 14,
   "metadata": {},
   "outputs": [
    {
     "name": "stdout",
     "output_type": "stream",
     "text": [
      "Il y a 1951 personnes qui ont le statut de résident permanent ou qui sont nés en 1979\n"
     ]
    }
   ],
   "source": [
    "filtered_df = dataframe[(dataframe[\"cps19_yob\"]==1979) | (dataframe[\"cps19_citizenship\"] == \"Permanent resident\")]\n",
    "print(f\"Il y a { len(filtered_df.index) } personnes qui ont le statut de résident permanent ou qui sont nés en 1979\")"
   ]
  },
  {
   "cell_type": "markdown",
   "metadata": {},
   "source": [
    "### Q8"
   ]
  },
  {
   "cell_type": "code",
   "execution_count": 15,
   "metadata": {},
   "outputs": [
    {
     "data": {
      "text/plain": [
       "cps19_citizenship    Canadian citizen\n",
       "cps19_yob                        1982\n",
       "Name: 101, dtype: object"
      ]
     },
     "execution_count": 15,
     "metadata": {},
     "output_type": "execute_result"
    }
   ],
   "source": [
    "dataframe.iloc[101][[\"cps19_citizenship\",\"cps19_yob\"]]"
   ]
  },
  {
   "cell_type": "markdown",
   "metadata": {},
   "source": [
    "### Q9"
   ]
  },
  {
   "cell_type": "code",
   "execution_count": 16,
   "metadata": {},
   "outputs": [
    {
     "name": "stdout",
     "output_type": "stream",
     "text": [
      "['cps19_lead_int_113', 'cps19_lead_int_114', 'cps19_lead_int_115', 'cps19_lead_int_116', 'cps19_lead_int_117', 'cps19_lead_int_118', 'cps19_lead_int_119', 'cps19_lead_int_120']\n",
      "  cps19_lead_int_113 cps19_lead_int_114 cps19_lead_int_115 cps19_lead_int_116  \\\n",
      "0     Justin Trudeau                NaN      Jagmeet Singh                NaN   \n",
      "1                NaN                NaN                NaN                NaN   \n",
      "2     Justin Trudeau                NaN                NaN                NaN   \n",
      "3                NaN      Andrew Scheer                NaN                NaN   \n",
      "4                NaN      Andrew Scheer      Jagmeet Singh                NaN   \n",
      "\n",
      "  cps19_lead_int_117 cps19_lead_int_118 cps19_lead_int_119  \\\n",
      "0      Elizabeth May                NaN                NaN   \n",
      "1                NaN                NaN                NaN   \n",
      "2                NaN                NaN                NaN   \n",
      "3                NaN                NaN                NaN   \n",
      "4                NaN                NaN                NaN   \n",
      "\n",
      "                 cps19_lead_int_120  \n",
      "0                               NaN  \n",
      "1  Don't know/ Prefer not to answer  \n",
      "2                               NaN  \n",
      "3                               NaN  \n",
      "4                               NaN  \n"
     ]
    }
   ],
   "source": [
    "answer_columns = [column for column in df_columns if \"cps19_lead_int\" in column]\n",
    "print(answer_columns)\n",
    "print(dataframe[answer_columns].head())"
   ]
  },
  {
   "cell_type": "markdown",
   "metadata": {},
   "source": [
    "### Q10"
   ]
  },
  {
   "cell_type": "code",
   "execution_count": 17,
   "metadata": {},
   "outputs": [
    {
     "name": "stdout",
     "output_type": "stream",
     "text": [
      "Il y a 13311 personnes qui considèrent plus de 3 dirigeants comme intelligents\n"
     ]
    }
   ],
   "source": [
    "# On exclut la dernière possibilité où les personnes répondent \"je ne sais pas\"\n",
    "answer_columns_names = answer_columns[:-1]\n",
    "\n",
    "# Count permet de compter les éléments qui ne sont pas \"NaN\"\n",
    "# Selon l'axe 1 signifie que l'on compte le nombre de colonnes qui n'ont pas de NaN pour chaque ligne\n",
    "compte_intelligents_df = dataframe[answer_columns_names].count(axis=1)\n",
    "\n",
    "compte_intelligents_filtre_df = compte_intelligents_df[compte_intelligents_df>=3]\n",
    "print(f\"Il y a {len(compte_intelligents_filtre_df) } personnes qui considèrent plus de 3 dirigeants comme intelligents\")\n"
   ]
  },
  {
   "cell_type": "markdown",
   "metadata": {},
   "source": [
    "### Q11"
   ]
  },
  {
   "cell_type": "code",
   "execution_count": 18,
   "metadata": {},
   "outputs": [
    {
     "name": "stdout",
     "output_type": "stream",
     "text": [
      "Réponses uniques pour les choix de vote:  ['Green Party' \"Don't know/ Prefer not to answer\" 'Liberal Party'\n",
      " 'Conservative Party' nan 'ndp' 'Another party (please specify)'\n",
      " 'Bloc Qu<e9>b<e9>cois' \"People's Party\"]\n",
      "Noms de colonne contenant votechoice:  ['cps19_votechoice', 'cps19_votechoice_7_TEXT', 'cps19_votechoice_pr', 'cps19_votechoice_pr_7_TEXT']\n",
      "Il y a 12 personnes qui comptent voter pour le parti Rhinocéros\n"
     ]
    }
   ],
   "source": [
    "print(\"Réponses uniques pour les choix de vote: \", dataframe[\"cps19_votechoice\"].unique())\n",
    "# Le parti rhinocéros sera certainement sous l'appellation \"Another party\"\n",
    "\n",
    "votechoice_columns = [column for column in df_columns if \"cps19_votechoice\" in column]\n",
    "print(\"Noms de colonne contenant votechoice: \",votechoice_columns)\n",
    "\n",
    "# La colonne qui nous intéresse est cps19_votechoice_7_TEXT \n",
    "nom_colonne_texte = \"cps19_votechoice_7_TEXT\"\n",
    "\n",
    "# On va récupérer toutes les réponses qui contiennent vraiment du texte et uniquement celles ci\n",
    "colonnes_texte_filtre_df = dataframe[ ~dataframe.isna()[nom_colonne_texte] ][nom_colonne_texte]\n",
    "\n",
    "# Et on va maintenant chercher toutes les réponses qui contiennent \"rhin\" en référence au parti rhinocéros\n",
    "# on fera attention aux majuscules d'où l'emploi de .lower()\n",
    "reponses_rhino = [texte for texte in colonnes_texte_filtre_df if \"rhin\" in texte.lower()]\n",
    "\n",
    "print(f\"Il y a {len(reponses_rhino)} personnes qui comptent voter pour le parti Rhinocéros\")"
   ]
  },
  {
   "cell_type": "code",
   "execution_count": null,
   "metadata": {},
   "outputs": [],
   "source": []
  }
 ],
 "metadata": {
  "interpreter": {
   "hash": "534cf8b67332cda1a766a26dea8bfd76e3f124149b455238e590f10a853e560c"
  },
  "kernelspec": {
   "display_name": "Python 3.7.9 64-bit",
   "language": "python",
   "name": "python3"
  },
  "language_info": {
   "codemirror_mode": {
    "name": "ipython",
    "version": 3
   },
   "file_extension": ".py",
   "mimetype": "text/x-python",
   "name": "python",
   "nbconvert_exporter": "python",
   "pygments_lexer": "ipython3",
   "version": "3.7.9"
  },
  "orig_nbformat": 4
 },
 "nbformat": 4,
 "nbformat_minor": 2
}
