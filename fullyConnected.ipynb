{
 "cells": [
  {
   "cell_type": "markdown",
   "metadata": {},
   "source": [
    "### Importer les librairies de machine learning"
   ]
  },
  {
   "cell_type": "code",
   "execution_count": 85,
   "metadata": {},
   "outputs": [],
   "source": [
    "import numpy as np\n",
    "import pandas as pd\n",
    "\n",
    "import poutyne as pt\n",
    "from poutyne import Model\n",
    "import torch\n",
    "from torch import nn\n",
    "import torch.nn.functional as F\n",
    "from torch.utils.data import TensorDataset, DataLoader\n",
    "\n",
    "from sklearn.model_selection import train_test_split"
   ]
  },
  {
   "cell_type": "markdown",
   "metadata": {},
   "source": [
    "### Ajuster les hyperparamètres"
   ]
  },
  {
   "cell_type": "code",
   "execution_count": 86,
   "metadata": {},
   "outputs": [],
   "source": [
    "test_ratio = 0.2\n",
    "valid_ratio = 0.2\n",
    "\n",
    "hidden_size = 512\n",
    "output_size = 8\n",
    "dropout = 0.0\n",
    "\n",
    "n_epochs = 50\n",
    "batch_size = 32\n",
    "learning_rate = 0.1\n",
    "min_lr=0.00001\n",
    "momentum = 0.9\n",
    "\n",
    "gamma = 0.1\n",
    "patience = 1\n",
    "\n",
    "device = torch.device(\"cuda:0\" if torch.cuda.is_available() else \"cpu\")"
   ]
  },
  {
   "cell_type": "markdown",
   "metadata": {},
   "source": [
    "### Charger le dataframe traité, le séparer en datasets et créer les DataLoaders"
   ]
  },
  {
   "cell_type": "code",
   "execution_count": 87,
   "metadata": {},
   "outputs": [],
   "source": [
    "# Load data/dataframe.csv file as a pandas dataframe\n",
    "df = pd.read_csv('data/dataframe.csv')\n",
    "\n",
    "input_size = len(df.columns) - 2 # Retirer le ID et l'étiquette\n",
    "\n",
    "# Convert into a tensor\n",
    "dataset = torch.tensor(df.values)\n",
    "\n",
    "# Split into train and test\n",
    "train_data, test_data = train_test_split(dataset, test_size=test_ratio)\n",
    "\n",
    "# Split train into train and validation\n",
    "train_data, val_data = train_test_split(train_data, test_size=valid_ratio)\n",
    "\n",
    "# Split train into X and y without the firs column\n",
    "X_train, y_train = train_data[:, 1:-1].float(), train_data[:, -1].long()\n",
    "X_val, y_val = val_data[:, 1:-1].float(), val_data[:, -1].long()\n",
    "X_test, y_test = test_data[:, 1:-1].float(), test_data[:, -1].long()\n",
    "\n",
    "train_dataset = TensorDataset(X_train, y_train)\n",
    "val_dataset = TensorDataset(X_val, y_val)\n",
    "test_dataset = TensorDataset(X_test, y_test)\n",
    "\n",
    "\n",
    "train_loader = DataLoader(train_dataset, batch_size=batch_size, shuffle=True)\n",
    "val_loader = DataLoader(val_dataset, batch_size=batch_size, shuffle=True)\n",
    "test_loader = DataLoader(test_dataset, batch_size=batch_size, shuffle=True)"
   ]
  },
  {
   "cell_type": "markdown",
   "metadata": {},
   "source": [
    "### Créer l'algorithme FC"
   ]
  },
  {
   "cell_type": "code",
   "execution_count": 88,
   "metadata": {},
   "outputs": [],
   "source": [
    "class FCNetwork(nn.Module):\n",
    "    def __init__(self, input_size, output_size):\n",
    "        super(FCNetwork, self).__init__()\n",
    "        self.dropout1 = nn.Dropout(dropout)\n",
    "        self.fc1 = nn.Linear(input_size, hidden_size)\n",
    "        self.bn1 = nn.BatchNorm1d(hidden_size)\n",
    "\n",
    "        hidden_size_2 = hidden_size\n",
    "        self.dropout2 = nn.Dropout(dropout)\n",
    "        self.fc2 = nn.Linear(hidden_size, hidden_size_2)\n",
    "        self.bn2 = nn.BatchNorm1d(hidden_size_2)\n",
    "\n",
    "        hidden_size_3 = hidden_size // 2\n",
    "        self.dropout3 = nn.Dropout(dropout)\n",
    "        self.fc3 = nn.Linear(hidden_size_2, hidden_size_3)\n",
    "        self.bn3 = nn.BatchNorm1d(hidden_size_3)\n",
    "\n",
    "        hidden_size_4 = hidden_size // 4\n",
    "        self.dropout4 = nn.Dropout(dropout)\n",
    "        self.fc4 = nn.Linear(hidden_size_3, hidden_size_4)\n",
    "        self.bn4 = nn.BatchNorm1d(hidden_size_4)\n",
    "\n",
    "        hidden_size_5 = hidden_size // 8\n",
    "        self.dropout5 = nn.Dropout(dropout)\n",
    "        self.fc5 = nn.Linear(hidden_size_4, hidden_size_5)\n",
    "        self.bn5 = nn.BatchNorm1d(hidden_size_5)\n",
    "\n",
    "        self.fc6 = nn.Linear(hidden_size_5, output_size)\n",
    "\n",
    "    def forward(self, x):\n",
    "        x = self.dropout1(x)\n",
    "        x = F.relu(self.bn1(self.fc1(x)))\n",
    "        x = self.dropout2(x)\n",
    "        x = F.relu(self.bn2(self.fc2(x)))\n",
    "        x = self.dropout3(x)\n",
    "        x = F.relu(self.bn3(self.fc3(x)))\n",
    "        x = self.dropout4(x)\n",
    "        x = F.relu(self.bn4(self.fc4(x)))\n",
    "        x = self.dropout5(x)\n",
    "        x = F.relu(self.bn5(self.fc5(x)))\n",
    "        x = self.fc6(x)\n",
    "        y = F.log_softmax(x, dim=1)\n",
    "        return y"
   ]
  },
  {
   "cell_type": "markdown",
   "metadata": {},
   "source": [
    "### Créer le modèle Poutyne"
   ]
  },
  {
   "cell_type": "code",
   "execution_count": 89,
   "metadata": {},
   "outputs": [],
   "source": [
    "network = FCNetwork(input_size, output_size)\n",
    "criterion = nn.CrossEntropyLoss()\n",
    "optimizer = torch.optim.SGD(network.parameters(), lr=learning_rate, momentum=momentum)\n",
    "scheduler = pt.ReduceLROnPlateau(monitor=\"val_acc\", mode='max', patience=patience, factor=gamma, min_lr=min_lr, verbose=True)\n",
    "model = Model(network, optimizer, criterion, device=device, batch_metrics=[\"accuracy\"])"
   ]
  },
  {
   "cell_type": "markdown",
   "metadata": {},
   "source": [
    "### Entraîner le modèle sur les données d'entraînement"
   ]
  },
  {
   "cell_type": "code",
   "execution_count": 90,
   "metadata": {},
   "outputs": [
    {
     "name": "stdout",
     "output_type": "stream",
     "text": [
      "\u001b[35mEpoch: \u001b[36m 1/50 \u001b[35mTrain steps: \u001b[36m1500 \u001b[35mVal steps: \u001b[36m375 \u001b[32m7.55s \u001b[35mloss:\u001b[94m 1.529484\u001b[35m acc:\u001b[94m 44.647248\u001b[35m val_loss:\u001b[94m 1.363269\u001b[35m val_acc:\u001b[94m 50.012501\u001b[0m\n",
      "\u001b[35mEpoch: \u001b[36m 2/50 \u001b[35mTrain steps: \u001b[36m1500 \u001b[35mVal steps: \u001b[36m375 \u001b[32m6.78s \u001b[35mloss:\u001b[94m 1.331536\u001b[35m acc:\u001b[94m 51.793974\u001b[35m val_loss:\u001b[94m 1.189443\u001b[35m val_acc:\u001b[94m 56.013001\u001b[0m\n",
      "\u001b[35mEpoch: \u001b[36m 3/50 \u001b[35mTrain steps: \u001b[36m1500 \u001b[35mVal steps: \u001b[36m375 \u001b[32m6.87s \u001b[35mloss:\u001b[94m 1.211239\u001b[35m acc:\u001b[94m 55.763220\u001b[35m val_loss:\u001b[94m 1.152754\u001b[35m val_acc:\u001b[94m 57.896491\u001b[0m\n",
      "\u001b[35mEpoch: \u001b[36m 4/50 \u001b[35mTrain steps: \u001b[36m1500 \u001b[35mVal steps: \u001b[36m375 \u001b[32m6.83s \u001b[35mloss:\u001b[94m 1.137223\u001b[35m acc:\u001b[94m 58.719840\u001b[35m val_loss:\u001b[94m 1.059133\u001b[35m val_acc:\u001b[94m 60.580048\u001b[0m\n",
      "\u001b[35mEpoch: \u001b[36m 5/50 \u001b[35mTrain steps: \u001b[36m1500 \u001b[35mVal steps: \u001b[36m375 \u001b[32m6.89s \u001b[35mloss:\u001b[94m 1.080654\u001b[35m acc:\u001b[94m 60.609660\u001b[35m val_loss:\u001b[94m 1.038719\u001b[35m val_acc:\u001b[94m 61.221768\u001b[0m\n",
      "\u001b[35mEpoch: \u001b[36m 6/50 \u001b[35mTrain steps: \u001b[36m1500 \u001b[35mVal steps: \u001b[36m375 \u001b[32m6.83s \u001b[35mloss:\u001b[94m 1.037085\u001b[35m acc:\u001b[94m 62.041088\u001b[35m val_loss:\u001b[94m 0.974548\u001b[35m val_acc:\u001b[94m 63.863655\u001b[0m\n",
      "\u001b[35mEpoch: \u001b[36m 7/50 \u001b[35mTrain steps: \u001b[36m1500 \u001b[35mVal steps: \u001b[36m375 \u001b[32m7.24s \u001b[35mloss:\u001b[94m 0.993169\u001b[35m acc:\u001b[94m 63.557945\u001b[35m val_loss:\u001b[94m 0.981465\u001b[35m val_acc:\u001b[94m 62.988582\u001b[0m\n",
      "\u001b[35mEpoch: \u001b[36m 8/50 \u001b[35mTrain steps: \u001b[36m1500 \u001b[35mVal steps: \u001b[36m375 \u001b[32m7.22s \u001b[35mloss:\u001b[94m 0.964688\u001b[35m acc:\u001b[94m 64.539317\u001b[35m val_loss:\u001b[94m 0.939941\u001b[35m val_acc:\u001b[94m 64.963747\u001b[0m\n",
      "\u001b[35mEpoch: \u001b[36m 9/50 \u001b[35mTrain steps: \u001b[36m1500 \u001b[35mVal steps: \u001b[36m375 \u001b[32m6.84s \u001b[35mloss:\u001b[94m 0.930665\u001b[35m acc:\u001b[94m 65.983248\u001b[35m val_loss:\u001b[94m 0.940869\u001b[35m val_acc:\u001b[94m 66.138845\u001b[0m\n",
      "\u001b[35mEpoch: \u001b[36m10/50 \u001b[35mTrain steps: \u001b[36m1500 \u001b[35mVal steps: \u001b[36m375 \u001b[32m6.94s \u001b[35mloss:\u001b[94m 0.910069\u001b[35m acc:\u001b[94m 66.685419\u001b[35m val_loss:\u001b[94m 0.886719\u001b[35m val_acc:\u001b[94m 67.847321\u001b[0m\n",
      "\u001b[35mEpoch: \u001b[36m11/50 \u001b[35mTrain steps: \u001b[36m1500 \u001b[35mVal steps: \u001b[36m375 \u001b[32m6.90s \u001b[35mloss:\u001b[94m 0.883886\u001b[35m acc:\u001b[94m 67.516773\u001b[35m val_loss:\u001b[94m 0.901095\u001b[35m val_acc:\u001b[94m 66.830569\u001b[0m\n",
      "\u001b[35mEpoch: \u001b[36m12/50 \u001b[35mTrain steps: \u001b[36m1500 \u001b[35mVal steps: \u001b[36m375 \u001b[32m6.87s \u001b[35mloss:\u001b[94m 0.860645\u001b[35m acc:\u001b[94m 68.604409\u001b[35m val_loss:\u001b[94m 0.847924\u001b[35m val_acc:\u001b[94m 68.580715\u001b[0m\n",
      "\u001b[35mEpoch: \u001b[36m13/50 \u001b[35mTrain steps: \u001b[36m1500 \u001b[35mVal steps: \u001b[36m375 \u001b[32m6.99s \u001b[35mloss:\u001b[94m 0.838190\u001b[35m acc:\u001b[94m 69.264908\u001b[35m val_loss:\u001b[94m 0.840600\u001b[35m val_acc:\u001b[94m 68.997416\u001b[0m\n",
      "\u001b[35mEpoch: \u001b[36m14/50 \u001b[35mTrain steps: \u001b[36m1500 \u001b[35mVal steps: \u001b[36m375 \u001b[32m6.86s \u001b[35mloss:\u001b[94m 0.823104\u001b[35m acc:\u001b[94m 69.804559\u001b[35m val_loss:\u001b[94m 0.831670\u001b[35m val_acc:\u001b[94m 69.864155\u001b[0m\n",
      "\u001b[35mEpoch: \u001b[36m15/50 \u001b[35mTrain steps: \u001b[36m1500 \u001b[35mVal steps: \u001b[36m375 \u001b[32m6.93s \u001b[35mloss:\u001b[94m 0.799398\u001b[35m acc:\u001b[94m 70.688003\u001b[35m val_loss:\u001b[94m 0.808832\u001b[35m val_acc:\u001b[94m 70.422535\u001b[0m\n",
      "\u001b[35mEpoch: \u001b[36m16/50 \u001b[35mTrain steps: \u001b[36m1500 \u001b[35mVal steps: \u001b[36m375 \u001b[32m6.93s \u001b[35mloss:\u001b[94m 0.778926\u001b[35m acc:\u001b[94m 71.540193\u001b[35m val_loss:\u001b[94m 0.815150\u001b[35m val_acc:\u001b[94m 70.430869\u001b[0m\n",
      "\u001b[35mEpoch: \u001b[36m17/50 \u001b[35mTrain steps: \u001b[36m1500 \u001b[35mVal steps: \u001b[36m375 \u001b[32m7.25s \u001b[35mloss:\u001b[94m 0.765397\u001b[35m acc:\u001b[94m 71.890236\u001b[35m val_loss:\u001b[94m 0.817484\u001b[35m val_acc:\u001b[94m 70.580882\u001b[0m\n",
      "\u001b[35mEpoch: \u001b[36m18/50 \u001b[35mTrain steps: \u001b[36m1500 \u001b[35mVal steps: \u001b[36m375 \u001b[32m6.97s \u001b[35mloss:\u001b[94m 0.749222\u001b[35m acc:\u001b[94m 72.371546\u001b[35m val_loss:\u001b[94m 0.828888\u001b[35m val_acc:\u001b[94m 69.572464\u001b[0m\n",
      "\u001b[35mEpoch: \u001b[36m19/50 \u001b[35mTrain steps: \u001b[36m1500 \u001b[35mVal steps: \u001b[36m375 \u001b[32m6.95s \u001b[35mloss:\u001b[94m 0.732332\u001b[35m acc:\u001b[94m 73.115389\u001b[35m val_loss:\u001b[94m 0.774594\u001b[35m val_acc:\u001b[94m 72.172681\u001b[0m\n",
      "\u001b[35mEpoch: \u001b[36m20/50 \u001b[35mTrain steps: \u001b[36m1500 \u001b[35mVal steps: \u001b[36m375 \u001b[32m6.85s \u001b[35mloss:\u001b[94m 0.712189\u001b[35m acc:\u001b[94m 73.757136\u001b[35m val_loss:\u001b[94m 0.766844\u001b[35m val_acc:\u001b[94m 73.206101\u001b[0m\n",
      "\u001b[35mEpoch: \u001b[36m21/50 \u001b[35mTrain steps: \u001b[36m1500 \u001b[35mVal steps: \u001b[36m375 \u001b[32m7.17s \u001b[35mloss:\u001b[94m 0.699091\u001b[35m acc:\u001b[94m 74.182189\u001b[35m val_loss:\u001b[94m 0.783784\u001b[35m val_acc:\u001b[94m 72.606051\u001b[0m\n",
      "\u001b[35mEpoch: \u001b[36m22/50 \u001b[35mTrain steps: \u001b[36m1500 \u001b[35mVal steps: \u001b[36m375 \u001b[32m6.75s \u001b[35mloss:\u001b[94m 0.685842\u001b[35m acc:\u001b[94m 74.661416\u001b[35m val_loss:\u001b[94m 0.762501\u001b[35m val_acc:\u001b[94m 73.481123\u001b[0m\n",
      "\u001b[35mEpoch: \u001b[36m23/50 \u001b[35mTrain steps: \u001b[36m1500 \u001b[35mVal steps: \u001b[36m375 \u001b[32m6.93s \u001b[35mloss:\u001b[94m 0.670043\u001b[35m acc:\u001b[94m 75.511522\u001b[35m val_loss:\u001b[94m 0.755950\u001b[35m val_acc:\u001b[94m 72.864405\u001b[0m\n",
      "\u001b[35mEpoch: \u001b[36m24/50 \u001b[35mTrain steps: \u001b[36m1500 \u001b[35mVal steps: \u001b[36m375 \u001b[32m7.00s \u001b[35mloss:\u001b[94m 0.654059\u001b[35m acc:\u001b[94m 76.194941\u001b[35m val_loss:\u001b[94m 0.753242\u001b[35m val_acc:\u001b[94m 73.414451\u001b[0m\n",
      "Epoch    24: reducing learning rate of group 0 to 1.0000e-02.\n",
      "\u001b[35mEpoch: \u001b[36m25/50 \u001b[35mTrain steps: \u001b[36m1500 \u001b[35mVal steps: \u001b[36m375 \u001b[32m6.86s \u001b[35mloss:\u001b[94m 0.521048\u001b[35m acc:\u001b[94m 80.774680\u001b[35m val_loss:\u001b[94m 0.686365\u001b[35m val_acc:\u001b[94m 76.623052\u001b[0m\n",
      "\u001b[35mEpoch: \u001b[36m26/50 \u001b[35mTrain steps: \u001b[36m1500 \u001b[35mVal steps: \u001b[36m375 \u001b[32m7.10s \u001b[35mloss:\u001b[94m 0.478327\u001b[35m acc:\u001b[94m 82.239447\u001b[35m val_loss:\u001b[94m 0.675937\u001b[35m val_acc:\u001b[94m 77.206434\u001b[0m\n",
      "\u001b[35mEpoch: \u001b[36m27/50 \u001b[35mTrain steps: \u001b[36m1500 \u001b[35mVal steps: \u001b[36m375 \u001b[32m6.93s \u001b[35mloss:\u001b[94m 0.461185\u001b[35m acc:\u001b[94m 82.874943\u001b[35m val_loss:\u001b[94m 0.677683\u001b[35m val_acc:\u001b[94m 77.098092\u001b[0m\n",
      "\u001b[35mEpoch: \u001b[36m28/50 \u001b[35mTrain steps: \u001b[36m1500 \u001b[35mVal steps: \u001b[36m375 \u001b[32m6.93s \u001b[35mloss:\u001b[94m 0.451496\u001b[35m acc:\u001b[94m 83.358336\u001b[35m val_loss:\u001b[94m 0.686520\u001b[35m val_acc:\u001b[94m 77.348112\u001b[0m\n",
      "\u001b[35mEpoch: \u001b[36m29/50 \u001b[35mTrain steps: \u001b[36m1500 \u001b[35mVal steps: \u001b[36m375 \u001b[32m6.90s \u001b[35mloss:\u001b[94m 0.437681\u001b[35m acc:\u001b[94m 83.777139\u001b[35m val_loss:\u001b[94m 0.678857\u001b[35m val_acc:\u001b[94m 78.089841\u001b[0m\n",
      "\u001b[35mEpoch: \u001b[36m30/50 \u001b[35mTrain steps: \u001b[36m1500 \u001b[35mVal steps: \u001b[36m375 \u001b[32m6.96s \u001b[35mloss:\u001b[94m 0.429197\u001b[35m acc:\u001b[94m 83.922990\u001b[35m val_loss:\u001b[94m 0.682240\u001b[35m val_acc:\u001b[94m 78.264855\u001b[0m\n",
      "\u001b[35mEpoch: \u001b[36m31/50 \u001b[35mTrain steps: \u001b[36m1500 \u001b[35mVal steps: \u001b[36m375 \u001b[32m6.95s \u001b[35mloss:\u001b[94m 0.423471\u001b[35m acc:\u001b[94m 84.227195\u001b[35m val_loss:\u001b[94m 0.683145\u001b[35m val_acc:\u001b[94m 78.548212\u001b[0m\n",
      "\u001b[35mEpoch: \u001b[36m32/50 \u001b[35mTrain steps: \u001b[36m1500 \u001b[35mVal steps: \u001b[36m375 \u001b[32m6.88s \u001b[35mloss:\u001b[94m 0.420461\u001b[35m acc:\u001b[94m 84.452223\u001b[35m val_loss:\u001b[94m 0.680930\u001b[35m val_acc:\u001b[94m 78.323194\u001b[0m\n",
      "\u001b[35mEpoch: \u001b[36m33/50 \u001b[35mTrain steps: \u001b[36m1500 \u001b[35mVal steps: \u001b[36m375 \u001b[32m7.00s \u001b[35mloss:\u001b[94m 0.411893\u001b[35m acc:\u001b[94m 84.671001\u001b[35m val_loss:\u001b[94m 0.698407\u001b[35m val_acc:\u001b[94m 78.248187\u001b[0m\n",
      "Epoch    33: reducing learning rate of group 0 to 1.0000e-03.\n",
      "\u001b[35mEpoch: \u001b[36m34/50 \u001b[35mTrain steps: \u001b[36m1500 \u001b[35mVal steps: \u001b[36m375 \u001b[32m6.96s \u001b[35mloss:\u001b[94m 0.392779\u001b[35m acc:\u001b[94m 85.560695\u001b[35m val_loss:\u001b[94m 0.677059\u001b[35m val_acc:\u001b[94m 78.789899\u001b[0m\n",
      "\u001b[35mEpoch: \u001b[36m35/50 \u001b[35mTrain steps: \u001b[36m1500 \u001b[35mVal steps: \u001b[36m375 \u001b[32m6.97s \u001b[35mloss:\u001b[94m 0.389556\u001b[35m acc:\u001b[94m 85.556528\u001b[35m val_loss:\u001b[94m 0.679692\u001b[35m val_acc:\u001b[94m 78.798233\u001b[0m\n",
      "\u001b[35mEpoch: \u001b[36m36/50 \u001b[35mTrain steps: \u001b[36m1500 \u001b[35mVal steps: \u001b[36m375 \u001b[32m7.18s \u001b[35mloss:\u001b[94m 0.388243\u001b[35m acc:\u001b[94m 85.616952\u001b[35m val_loss:\u001b[94m 0.690853\u001b[35m val_acc:\u001b[94m 78.698225\u001b[0m\n",
      "\u001b[35mEpoch: \u001b[36m37/50 \u001b[35mTrain steps: \u001b[36m1500 \u001b[35mVal steps: \u001b[36m375 \u001b[32m6.94s \u001b[35mloss:\u001b[94m 0.385325\u001b[35m acc:\u001b[94m 85.685711\u001b[35m val_loss:\u001b[94m 0.681502\u001b[35m val_acc:\u001b[94m 78.906576\u001b[0m\n",
      "\u001b[35mEpoch: \u001b[36m38/50 \u001b[35mTrain steps: \u001b[36m1500 \u001b[35mVal steps: \u001b[36m375 \u001b[32m6.83s \u001b[35mloss:\u001b[94m 0.385023\u001b[35m acc:\u001b[94m 85.673209\u001b[35m val_loss:\u001b[94m 0.677140\u001b[35m val_acc:\u001b[94m 79.156596\u001b[0m\n",
      "\u001b[35mEpoch: \u001b[36m39/50 \u001b[35mTrain steps: \u001b[36m1500 \u001b[35mVal steps: \u001b[36m375 \u001b[32m6.98s \u001b[35mloss:\u001b[94m 0.383277\u001b[35m acc:\u001b[94m 85.750302\u001b[35m val_loss:\u001b[94m 0.668722\u001b[35m val_acc:\u001b[94m 79.031586\u001b[0m\n",
      "\u001b[35mEpoch: \u001b[36m40/50 \u001b[35mTrain steps: \u001b[36m1500 \u001b[35mVal steps: \u001b[36m375 \u001b[32m7.14s \u001b[35mloss:\u001b[94m 0.381010\u001b[35m acc:\u001b[94m 85.741968\u001b[35m val_loss:\u001b[94m 0.687249\u001b[35m val_acc:\u001b[94m 78.673223\u001b[0m\n",
      "Epoch    40: reducing learning rate of group 0 to 1.0000e-04.\n",
      "\u001b[35mEpoch: \u001b[36m41/50 \u001b[35mTrain steps: \u001b[36m1500 \u001b[35mVal steps: \u001b[36m375 \u001b[32m6.89s \u001b[35mloss:\u001b[94m 0.380543\u001b[35m acc:\u001b[94m 85.894070\u001b[35m val_loss:\u001b[94m 0.693423\u001b[35m val_acc:\u001b[94m 78.848237\u001b[0m\n",
      "\u001b[35mEpoch: \u001b[36m42/50 \u001b[35mTrain steps: \u001b[36m1500 \u001b[35mVal steps: \u001b[36m375 \u001b[32m6.84s \u001b[35mloss:\u001b[94m 0.381519\u001b[35m acc:\u001b[94m 85.841980\u001b[35m val_loss:\u001b[94m 0.676698\u001b[35m val_acc:\u001b[94m 78.964914\u001b[0m\n",
      "Epoch    42: reducing learning rate of group 0 to 1.0000e-05.\n",
      "\u001b[35mEpoch: \u001b[36m43/50 \u001b[35mTrain steps: \u001b[36m1500 \u001b[35mVal steps: \u001b[36m375 \u001b[32m6.95s \u001b[35mloss:\u001b[94m 0.379999\u001b[35m acc:\u001b[94m 85.919073\u001b[35m val_loss:\u001b[94m 0.680117\u001b[35m val_acc:\u001b[94m 78.906576\u001b[0m\n",
      "\u001b[35mEpoch: \u001b[36m44/50 \u001b[35mTrain steps: \u001b[36m1500 \u001b[35mVal steps: \u001b[36m375 \u001b[32m6.90s \u001b[35mloss:\u001b[94m 0.378965\u001b[35m acc:\u001b[94m 85.902404\u001b[35m val_loss:\u001b[94m 0.677057\u001b[35m val_acc:\u001b[94m 78.814901\u001b[0m\n",
      "\u001b[35mEpoch: \u001b[36m45/50 \u001b[35mTrain steps: \u001b[36m1500 \u001b[35mVal steps: \u001b[36m375 \u001b[32m7.32s \u001b[35mloss:\u001b[94m 0.381152\u001b[35m acc:\u001b[94m 85.683627\u001b[35m val_loss:\u001b[94m 0.689221\u001b[35m val_acc:\u001b[94m 78.723227\u001b[0m\n",
      "\u001b[35mEpoch: \u001b[36m46/50 \u001b[35mTrain steps: \u001b[36m1500 \u001b[35mVal steps: \u001b[36m375 \u001b[32m6.89s \u001b[35mloss:\u001b[94m 0.382548\u001b[35m acc:\u001b[94m 85.819061\u001b[35m val_loss:\u001b[94m 0.691060\u001b[35m val_acc:\u001b[94m 78.764897\u001b[0m\n",
      "\u001b[35mEpoch: \u001b[36m47/50 \u001b[35mTrain steps: \u001b[36m1500 \u001b[35mVal steps: \u001b[36m375 \u001b[32m6.91s \u001b[35mloss:\u001b[94m 0.385179\u001b[35m acc:\u001b[94m 85.725299\u001b[35m val_loss:\u001b[94m 0.669465\u001b[35m val_acc:\u001b[94m 79.081590\u001b[0m\n",
      "\u001b[35mEpoch: \u001b[36m48/50 \u001b[35mTrain steps: \u001b[36m1500 \u001b[35mVal steps: \u001b[36m375 \u001b[32m6.98s \u001b[35mloss:\u001b[94m 0.380595\u001b[35m acc:\u001b[94m 85.821144\u001b[35m val_loss:\u001b[94m 0.677627\u001b[35m val_acc:\u001b[94m 79.064922\u001b[0m\n",
      "\u001b[35mEpoch: \u001b[36m49/50 \u001b[35mTrain steps: \u001b[36m1500 \u001b[35mVal steps: \u001b[36m375 \u001b[32m6.94s \u001b[35mloss:\u001b[94m 0.380129\u001b[35m acc:\u001b[94m 85.971163\u001b[35m val_loss:\u001b[94m 0.699022\u001b[35m val_acc:\u001b[94m 78.739895\u001b[0m\n",
      "\u001b[35mEpoch: \u001b[36m50/50 \u001b[35mTrain steps: \u001b[36m1500 \u001b[35mVal steps: \u001b[36m375 \u001b[32m6.93s \u001b[35mloss:\u001b[94m 0.380765\u001b[35m acc:\u001b[94m 85.854482\u001b[35m val_loss:\u001b[94m 0.686441\u001b[35m val_acc:\u001b[94m 78.839903\u001b[0m\n"
     ]
    }
   ],
   "source": [
    "history = model.fit_generator(train_loader, val_loader, epochs=n_epochs, callbacks=[scheduler])\n",
    "torch.cuda.empty_cache()"
   ]
  },
  {
   "cell_type": "markdown",
   "metadata": {},
   "source": [
    "### Évaluer le modèle sur les données de test"
   ]
  },
  {
   "cell_type": "code",
   "execution_count": 91,
   "metadata": {},
   "outputs": [
    {
     "name": "stdout",
     "output_type": "stream",
     "text": [
      "\u001b[35mTest steps: \u001b[36m469 \u001b[32m0.86s \u001b[35mtest_loss:\u001b[94m 0.677585\u001b[35m test_acc:\u001b[94m 79.191946\u001b[0m                                                 \n"
     ]
    }
   ],
   "source": [
    "loss, acc = model.evaluate_generator(test_loader)"
   ]
  }
 ],
 "metadata": {
  "interpreter": {
   "hash": "b3ba2566441a7c06988d0923437866b63cedc61552a5af99d1f4fb67d367b25f"
  },
  "kernelspec": {
   "display_name": "Python 3.8.8 ('base')",
   "language": "python",
   "name": "python3"
  },
  "language_info": {
   "codemirror_mode": {
    "name": "ipython",
    "version": 3
   },
   "file_extension": ".py",
   "mimetype": "text/x-python",
   "name": "python",
   "nbconvert_exporter": "python",
   "pygments_lexer": "ipython3",
   "version": "3.8.8"
  },
  "orig_nbformat": 4
 },
 "nbformat": 4,
 "nbformat_minor": 2
}
