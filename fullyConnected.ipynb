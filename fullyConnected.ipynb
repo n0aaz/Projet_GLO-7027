{
 "cells": [
  {
   "cell_type": "markdown",
   "metadata": {},
   "source": [
    "### Importer les librairies de machine learning"
   ]
  },
  {
   "cell_type": "code",
   "execution_count": 1,
   "metadata": {},
   "outputs": [],
   "source": [
    "import numpy as np\n",
    "import pandas as pd\n",
    "\n",
    "import poutyne as pt\n",
    "from poutyne import Model\n",
    "import torch\n",
    "from torch import nn\n",
    "import torch.nn.functional as F\n",
    "from torch.utils.data import TensorDataset, DataLoader\n",
    "\n",
    "from sklearn.metrics import accuracy_score, f1_score, precision_score, recall_score, confusion_matrix, ConfusionMatrixDisplay\n",
    "from sklearn.model_selection import train_test_split\n",
    "\n",
    "import matplotlib.pyplot as plt"
   ]
  },
  {
   "cell_type": "markdown",
   "metadata": {},
   "source": [
    "### Ajuster les hyperparamètres"
   ]
  },
  {
   "cell_type": "code",
   "execution_count": 2,
   "metadata": {},
   "outputs": [],
   "source": [
    "test_ratio = 0.2\n",
    "valid_ratio = 0.5\n",
    "\n",
    "hidden_size = 512\n",
    "output_size = 8\n",
    "dropout = 0.0\n",
    "\n",
    "n_epochs = 30\n",
    "batch_size = 32\n",
    "learning_rate = 0.1\n",
    "min_lr=0.00001\n",
    "momentum = 0.9\n",
    "\n",
    "gamma = 0.1\n",
    "patience = 1\n",
    "\n",
    "device = torch.device(\"cuda:0\" if torch.cuda.is_available() else \"cpu\")"
   ]
  },
  {
   "cell_type": "markdown",
   "metadata": {},
   "source": [
    "### Charger le dataframe traité, le séparer en datasets et créer les DataLoaders"
   ]
  },
  {
   "cell_type": "code",
   "execution_count": 3,
   "metadata": {},
   "outputs": [],
   "source": [
    "# Load data/dataframe.csv file as a pandas dataframe\n",
    "df = pd.read_csv('data/dataframe.csv')\n",
    "\n",
    "input_size = len(df.columns) - 2 # Retirer le ID et l'étiquette\n",
    "\n",
    "# Convert into a tensor\n",
    "dataset = torch.tensor(df.values)\n",
    "\n",
    "# Split into train and test\n",
    "train_data, test_data = train_test_split(dataset, test_size=test_ratio)\n",
    "\n",
    "# Split train into train and validation\n",
    "test_data, val_data = train_test_split(test_data, test_size=valid_ratio)\n",
    "\n",
    "# Split train into X and y without the firs column\n",
    "X_train, y_train = train_data[:, 1:-1].float(), train_data[:, -1].long()\n",
    "X_val, y_val = val_data[:, 1:-1].float(), val_data[:, -1].long()\n",
    "X_test, y_test = test_data[:, 1:-1].float(), test_data[:, -1].long()\n",
    "\n",
    "train_dataset = TensorDataset(X_train, y_train)\n",
    "val_dataset = TensorDataset(X_val, y_val)\n",
    "test_dataset = TensorDataset(X_test, y_test)\n",
    "\n",
    "\n",
    "train_loader = DataLoader(train_dataset, batch_size=batch_size, shuffle=True)\n",
    "val_loader = DataLoader(val_dataset, batch_size=batch_size, shuffle=True)\n",
    "test_loader = DataLoader(test_dataset, batch_size=batch_size, shuffle=False)"
   ]
  },
  {
   "cell_type": "code",
   "execution_count": 14,
   "metadata": {},
   "outputs": [
    {
     "name": "stdout",
     "output_type": "stream",
     "text": [
      "(74992, 32)\n"
     ]
    }
   ],
   "source": [
    "# print shape of df\n",
    "print(df.shape)"
   ]
  },
  {
   "cell_type": "markdown",
   "metadata": {},
   "source": [
    "### Créer l'algorithme FC"
   ]
  },
  {
   "cell_type": "code",
   "execution_count": 4,
   "metadata": {},
   "outputs": [],
   "source": [
    "class FCNetwork(nn.Module):\n",
    "    def __init__(self, input_size, output_size):\n",
    "        super(FCNetwork, self).__init__()\n",
    "        self.dropout1 = nn.Dropout(dropout)\n",
    "        self.fc1 = nn.Linear(input_size, hidden_size)\n",
    "        self.bn1 = nn.BatchNorm1d(hidden_size)\n",
    "\n",
    "        hidden_size_2 = hidden_size\n",
    "        self.dropout2 = nn.Dropout(dropout)\n",
    "        self.fc2 = nn.Linear(hidden_size, hidden_size_2)\n",
    "        self.bn2 = nn.BatchNorm1d(hidden_size_2)\n",
    "\n",
    "        hidden_size_3 = hidden_size // 2\n",
    "        self.dropout3 = nn.Dropout(dropout)\n",
    "        self.fc3 = nn.Linear(hidden_size_2, hidden_size_3)\n",
    "        self.bn3 = nn.BatchNorm1d(hidden_size_3)\n",
    "\n",
    "        hidden_size_4 = hidden_size // 4\n",
    "        self.dropout4 = nn.Dropout(dropout)\n",
    "        self.fc4 = nn.Linear(hidden_size_3, hidden_size_4)\n",
    "        self.bn4 = nn.BatchNorm1d(hidden_size_4)\n",
    "\n",
    "        hidden_size_5 = hidden_size // 8\n",
    "        self.dropout5 = nn.Dropout(dropout)\n",
    "        self.fc5 = nn.Linear(hidden_size_4, hidden_size_5)\n",
    "        self.bn5 = nn.BatchNorm1d(hidden_size_5)\n",
    "\n",
    "        self.fc6 = nn.Linear(hidden_size_5, output_size)\n",
    "\n",
    "    def forward(self, x):\n",
    "        x = self.dropout1(x)\n",
    "        x = F.relu(self.bn1(self.fc1(x)))\n",
    "        x = self.dropout2(x)\n",
    "        x = F.relu(self.bn2(self.fc2(x)))\n",
    "        x = self.dropout3(x)\n",
    "        x = F.relu(self.bn3(self.fc3(x)))\n",
    "        x = self.dropout4(x)\n",
    "        x = F.relu(self.bn4(self.fc4(x)))\n",
    "        x = self.dropout5(x)\n",
    "        x = F.relu(self.bn5(self.fc5(x)))\n",
    "        x = self.fc6(x)\n",
    "        y = F.log_softmax(x, dim=1)\n",
    "        return y"
   ]
  },
  {
   "cell_type": "markdown",
   "metadata": {},
   "source": [
    "### Créer le modèle Poutyne"
   ]
  },
  {
   "cell_type": "code",
   "execution_count": 5,
   "metadata": {},
   "outputs": [],
   "source": [
    "network = FCNetwork(input_size, output_size)\n",
    "criterion = nn.CrossEntropyLoss()\n",
    "optimizer = torch.optim.SGD(network.parameters(), lr=learning_rate, momentum=momentum)\n",
    "scheduler = pt.ReduceLROnPlateau(monitor=\"val_acc\", mode='max', patience=patience, factor=gamma, min_lr=min_lr, verbose=True)\n",
    "model = Model(network, optimizer, criterion, device=device, batch_metrics=[\"accuracy\"])"
   ]
  },
  {
   "cell_type": "markdown",
   "metadata": {},
   "source": [
    "### Entraîner le modèle sur les données d'entraînement"
   ]
  },
  {
   "cell_type": "code",
   "execution_count": 6,
   "metadata": {},
   "outputs": [
    {
     "name": "stdout",
     "output_type": "stream",
     "text": [
      "\u001b[35mEpoch: \u001b[36m 1/30 \u001b[35mTrain steps: \u001b[36m1875 \u001b[35mVal steps: \u001b[36m235 \u001b[32m7.72s \u001b[35mloss:\u001b[94m 1.497525\u001b[35m acc:\u001b[94m 45.828680\u001b[35m val_loss:\u001b[94m 1.306995\u001b[35m val_acc:\u001b[94m 51.693333\u001b[0m\n",
      "\u001b[35mEpoch: \u001b[36m 2/30 \u001b[35mTrain steps: \u001b[36m1875 \u001b[35mVal steps: \u001b[36m235 \u001b[32m7.17s \u001b[35mloss:\u001b[94m 1.284816\u001b[35m acc:\u001b[94m 53.372894\u001b[35m val_loss:\u001b[94m 1.147441\u001b[35m val_acc:\u001b[94m 56.880000\u001b[0m\n",
      "\u001b[35mEpoch: \u001b[36m 3/30 \u001b[35mTrain steps: \u001b[36m1875 \u001b[35mVal steps: \u001b[36m235 \u001b[32m7.55s \u001b[35mloss:\u001b[94m 1.169417\u001b[35m acc:\u001b[94m 57.345024\u001b[35m val_loss:\u001b[94m 1.039714\u001b[35m val_acc:\u001b[94m 62.026667\u001b[0m\n",
      "\u001b[35mEpoch: \u001b[36m 4/30 \u001b[35mTrain steps: \u001b[36m1875 \u001b[35mVal steps: \u001b[36m235 \u001b[32m7.31s \u001b[35mloss:\u001b[94m 1.093895\u001b[35m acc:\u001b[94m 60.128682\u001b[35m val_loss:\u001b[94m 1.019630\u001b[35m val_acc:\u001b[94m 62.546667\u001b[0m\n",
      "\u001b[35mEpoch: \u001b[36m 5/30 \u001b[35mTrain steps: \u001b[36m1875 \u001b[35mVal steps: \u001b[36m235 \u001b[32m7.34s \u001b[35mloss:\u001b[94m 1.042589\u001b[35m acc:\u001b[94m 61.695531\u001b[35m val_loss:\u001b[94m 0.941383\u001b[35m val_acc:\u001b[94m 65.746667\u001b[0m\n",
      "\u001b[35mEpoch: \u001b[36m 6/30 \u001b[35mTrain steps: \u001b[36m1875 \u001b[35mVal steps: \u001b[36m235 \u001b[32m7.50s \u001b[35mloss:\u001b[94m 0.993607\u001b[35m acc:\u001b[94m 63.554081\u001b[35m val_loss:\u001b[94m 0.944207\u001b[35m val_acc:\u001b[94m 65.520000\u001b[0m\n",
      "\u001b[35mEpoch: \u001b[36m 7/30 \u001b[35mTrain steps: \u001b[36m1875 \u001b[35mVal steps: \u001b[36m235 \u001b[32m7.42s \u001b[35mloss:\u001b[94m 0.959809\u001b[35m acc:\u001b[94m 64.689214\u001b[35m val_loss:\u001b[94m 0.885580\u001b[35m val_acc:\u001b[94m 67.133333\u001b[0m\n",
      "\u001b[35mEpoch: \u001b[36m 8/30 \u001b[35mTrain steps: \u001b[36m1875 \u001b[35mVal steps: \u001b[36m235 \u001b[32m7.39s \u001b[35mloss:\u001b[94m 0.923294\u001b[35m acc:\u001b[94m 66.041038\u001b[35m val_loss:\u001b[94m 0.850452\u001b[35m val_acc:\u001b[94m 69.013333\u001b[0m\n",
      "\u001b[35mEpoch: \u001b[36m 9/30 \u001b[35mTrain steps: \u001b[36m1875 \u001b[35mVal steps: \u001b[36m235 \u001b[32m7.67s \u001b[35mloss:\u001b[94m 0.896420\u001b[35m acc:\u001b[94m 67.041155\u001b[35m val_loss:\u001b[94m 0.897195\u001b[35m val_acc:\u001b[94m 66.773333\u001b[0m\n",
      "\u001b[35mEpoch: \u001b[36m10/30 \u001b[35mTrain steps: \u001b[36m1875 \u001b[35mVal steps: \u001b[36m235 \u001b[32m7.63s \u001b[35mloss:\u001b[94m 0.871822\u001b[35m acc:\u001b[94m 67.931259\u001b[35m val_loss:\u001b[94m 0.835488\u001b[35m val_acc:\u001b[94m 68.826667\u001b[0m\n",
      "Epoch    10: reducing learning rate of group 0 to 1.0000e-02.\n",
      "\u001b[35mEpoch: \u001b[36m11/30 \u001b[35mTrain steps: \u001b[36m1875 \u001b[35mVal steps: \u001b[36m235 \u001b[32m7.52s \u001b[35mloss:\u001b[94m 0.728470\u001b[35m acc:\u001b[94m 73.068525\u001b[35m val_loss:\u001b[94m 0.709396\u001b[35m val_acc:\u001b[94m 73.933333\u001b[0m\n",
      "\u001b[35mEpoch: \u001b[36m12/30 \u001b[35mTrain steps: \u001b[36m1875 \u001b[35mVal steps: \u001b[36m235 \u001b[32m7.65s \u001b[35mloss:\u001b[94m 0.683783\u001b[35m acc:\u001b[94m 74.433684\u001b[35m val_loss:\u001b[94m 0.704485\u001b[35m val_acc:\u001b[94m 74.093333\u001b[0m\n",
      "\u001b[35mEpoch: \u001b[36m13/30 \u001b[35mTrain steps: \u001b[36m1875 \u001b[35mVal steps: \u001b[36m235 \u001b[32m7.60s \u001b[35mloss:\u001b[94m 0.661561\u001b[35m acc:\u001b[94m 75.310453\u001b[35m val_loss:\u001b[94m 0.680322\u001b[35m val_acc:\u001b[94m 75.013333\u001b[0m\n",
      "\u001b[35mEpoch: \u001b[36m14/30 \u001b[35mTrain steps: \u001b[36m1875 \u001b[35mVal steps: \u001b[36m235 \u001b[32m7.39s \u001b[35mloss:\u001b[94m 0.643952\u001b[35m acc:\u001b[94m 76.002200\u001b[35m val_loss:\u001b[94m 0.682329\u001b[35m val_acc:\u001b[94m 75.293333\u001b[0m\n",
      "\u001b[35mEpoch: \u001b[36m15/30 \u001b[35mTrain steps: \u001b[36m1875 \u001b[35mVal steps: \u001b[36m235 \u001b[32m7.61s \u001b[35mloss:\u001b[94m 0.632517\u001b[35m acc:\u001b[94m 76.375577\u001b[35m val_loss:\u001b[94m 0.654020\u001b[35m val_acc:\u001b[94m 76.146667\u001b[0m\n",
      "\u001b[35mEpoch: \u001b[36m16/30 \u001b[35mTrain steps: \u001b[36m1875 \u001b[35mVal steps: \u001b[36m235 \u001b[32m7.89s \u001b[35mloss:\u001b[94m 0.617780\u001b[35m acc:\u001b[94m 77.043988\u001b[35m val_loss:\u001b[94m 0.654673\u001b[35m val_acc:\u001b[94m 75.933333\u001b[0m\n",
      "\u001b[35mEpoch: \u001b[36m17/30 \u001b[35mTrain steps: \u001b[36m1875 \u001b[35mVal steps: \u001b[36m235 \u001b[32m7.41s \u001b[35mloss:\u001b[94m 0.605191\u001b[35m acc:\u001b[94m 77.350691\u001b[35m val_loss:\u001b[94m 0.638548\u001b[35m val_acc:\u001b[94m 76.826667\u001b[0m\n",
      "\u001b[35mEpoch: \u001b[36m18/30 \u001b[35mTrain steps: \u001b[36m1875 \u001b[35mVal steps: \u001b[36m235 \u001b[32m7.88s \u001b[35mloss:\u001b[94m 0.597757\u001b[35m acc:\u001b[94m 77.700732\u001b[35m val_loss:\u001b[94m 0.638598\u001b[35m val_acc:\u001b[94m 77.026667\u001b[0m\n",
      "\u001b[35mEpoch: \u001b[36m19/30 \u001b[35mTrain steps: \u001b[36m1875 \u001b[35mVal steps: \u001b[36m235 \u001b[32m7.36s \u001b[35mloss:\u001b[94m 0.585041\u001b[35m acc:\u001b[94m 78.202457\u001b[35m val_loss:\u001b[94m 0.637489\u001b[35m val_acc:\u001b[94m 77.333333\u001b[0m\n",
      "\u001b[35mEpoch: \u001b[36m20/30 \u001b[35mTrain steps: \u001b[36m1875 \u001b[35mVal steps: \u001b[36m235 \u001b[32m7.33s \u001b[35mloss:\u001b[94m 0.578553\u001b[35m acc:\u001b[94m 78.340806\u001b[35m val_loss:\u001b[94m 0.626575\u001b[35m val_acc:\u001b[94m 77.733333\u001b[0m\n",
      "\u001b[35mEpoch: \u001b[36m21/30 \u001b[35mTrain steps: \u001b[36m1875 \u001b[35mVal steps: \u001b[36m235 \u001b[32m7.31s \u001b[35mloss:\u001b[94m 0.570083\u001b[35m acc:\u001b[94m 78.805861\u001b[35m val_loss:\u001b[94m 0.634494\u001b[35m val_acc:\u001b[94m 77.226667\u001b[0m\n",
      "\u001b[35mEpoch: \u001b[36m22/30 \u001b[35mTrain steps: \u001b[36m1875 \u001b[35mVal steps: \u001b[36m235 \u001b[32m7.31s \u001b[35mloss:\u001b[94m 0.554726\u001b[35m acc:\u001b[94m 79.450936\u001b[35m val_loss:\u001b[94m 0.618259\u001b[35m val_acc:\u001b[94m 78.253333\u001b[0m\n",
      "\u001b[35mEpoch: \u001b[36m23/30 \u001b[35mTrain steps: \u001b[36m1875 \u001b[35mVal steps: \u001b[36m235 \u001b[32m7.32s \u001b[35mloss:\u001b[94m 0.553750\u001b[35m acc:\u001b[94m 79.315920\u001b[35m val_loss:\u001b[94m 0.614308\u001b[35m val_acc:\u001b[94m 78.506667\u001b[0m\n",
      "\u001b[35mEpoch: \u001b[36m24/30 \u001b[35mTrain steps: \u001b[36m1875 \u001b[35mVal steps: \u001b[36m235 \u001b[32m7.75s \u001b[35mloss:\u001b[94m 0.542881\u001b[35m acc:\u001b[94m 79.799310\u001b[35m val_loss:\u001b[94m 0.614470\u001b[35m val_acc:\u001b[94m 78.520000\u001b[0m\n",
      "\u001b[35mEpoch: \u001b[36m25/30 \u001b[35mTrain steps: \u001b[36m1875 \u001b[35mVal steps: \u001b[36m235 \u001b[32m7.42s \u001b[35mloss:\u001b[94m 0.535825\u001b[35m acc:\u001b[94m 80.089344\u001b[35m val_loss:\u001b[94m 0.609613\u001b[35m val_acc:\u001b[94m 78.720000\u001b[0m\n",
      "\u001b[35mEpoch: \u001b[36m26/30 \u001b[35mTrain steps: \u001b[36m1875 \u001b[35mVal steps: \u001b[36m235 \u001b[32m8.13s \u001b[35mloss:\u001b[94m 0.525276\u001b[35m acc:\u001b[94m 80.371043\u001b[35m val_loss:\u001b[94m 0.599730\u001b[35m val_acc:\u001b[94m 79.013333\u001b[0m\n",
      "\u001b[35mEpoch: \u001b[36m27/30 \u001b[35mTrain steps: \u001b[36m1875 \u001b[35mVal steps: \u001b[36m235 \u001b[32m7.70s \u001b[35mloss:\u001b[94m 0.518412\u001b[35m acc:\u001b[94m 80.827763\u001b[35m val_loss:\u001b[94m 0.588596\u001b[35m val_acc:\u001b[94m 79.986667\u001b[0m\n",
      "\u001b[35mEpoch: \u001b[36m28/30 \u001b[35mTrain steps: \u001b[36m1875 \u001b[35mVal steps: \u001b[36m235 \u001b[32m7.42s \u001b[35mloss:\u001b[94m 0.512438\u001b[35m acc:\u001b[94m 80.802760\u001b[35m val_loss:\u001b[94m 0.592086\u001b[35m val_acc:\u001b[94m 79.386667\u001b[0m\n",
      "\u001b[35mEpoch: \u001b[36m29/30 \u001b[35mTrain steps: \u001b[36m1875 \u001b[35mVal steps: \u001b[36m235 \u001b[32m7.38s \u001b[35mloss:\u001b[94m 0.507493\u001b[35m acc:\u001b[94m 81.254480\u001b[35m val_loss:\u001b[94m 0.595855\u001b[35m val_acc:\u001b[94m 79.146667\u001b[0m\n",
      "Epoch    29: reducing learning rate of group 0 to 1.0000e-03.\n",
      "\u001b[35mEpoch: \u001b[36m30/30 \u001b[35mTrain steps: \u001b[36m1875 \u001b[35mVal steps: \u001b[36m235 \u001b[32m7.57s \u001b[35mloss:\u001b[94m 0.468361\u001b[35m acc:\u001b[94m 82.661310\u001b[35m val_loss:\u001b[94m 0.593050\u001b[35m val_acc:\u001b[94m 79.986667\u001b[0m\n"
     ]
    }
   ],
   "source": [
    "history = model.fit_generator(train_loader, val_loader, epochs=n_epochs, callbacks=[scheduler])\n",
    "torch.cuda.empty_cache()"
   ]
  },
  {
   "cell_type": "code",
   "execution_count": 7,
   "metadata": {},
   "outputs": [
    {
     "data": {
      "image/png": "[encoded data removed]",
      "text/plain": [
       "<Figure size 864x288 with 2 Axes>"
      ]
     },
     "metadata": {
      "needs_background": "light"
     },
     "output_type": "display_data"
    }
   ],
   "source": [
    "loss_per_epoch = []\n",
    "acc_per_epoch = []\n",
    "val_loss_per_epoch = []\n",
    "val_acc_per_epoch = []\n",
    "for epoch in history:\n",
    "    loss_per_epoch.append(epoch['loss'])\n",
    "    acc_per_epoch.append(epoch['acc'])\n",
    "    val_loss_per_epoch.append(epoch['val_loss'])\n",
    "    val_acc_per_epoch.append(epoch['val_acc'])\n",
    "\n",
    "plt.figure(figsize=(12, 4))\n",
    "plt.subplot(1, 2, 1)\n",
    "plt.plot(loss_per_epoch, label='Erreur d\\'entraînement')\n",
    "plt.plot(val_loss_per_epoch, label='Erreur de validation')\n",
    "plt.title('Erreur par époque')\n",
    "plt.legend()\n",
    "\n",
    "plt.subplot(1, 2, 2)\n",
    "plt.plot(acc_per_epoch, label='Exactitude d\\'entraînement')\n",
    "plt.plot(val_acc_per_epoch, label='Exactitude de validation')\n",
    "plt.title('Exactitude par époque')\n",
    "plt.legend()\n",
    "plt.show()"
   ]
  },
  {
   "cell_type": "markdown",
   "metadata": {},
   "source": [
    "### Évaluer le modèle sur les données de test"
   ]
  },
  {
   "cell_type": "markdown",
   "metadata": {},
   "source": [
    "#### Obtenir les prédictions"
   ]
  },
  {
   "cell_type": "code",
   "execution_count": 12,
   "metadata": {},
   "outputs": [
    {
     "name": "stdout",
     "output_type": "stream",
     "text": [
      "\u001b[35mPrediction steps: \u001b[36m235 \u001b[32m0.37s \u001b[0m                                           \n"
     ]
    }
   ],
   "source": [
    "predictions = model.predict_generator(test_loader, has_ground_truth=True)\n",
    "\n",
    "# Obtenir la classe ayant le plus grand score\n",
    "predicted_classes = predictions.argmax(axis=1)\n",
    "\n",
    "# Obtenir les labels test\n",
    "ground_truth = test_data[:, -1].long().numpy()"
   ]
  },
  {
   "cell_type": "markdown",
   "metadata": {},
   "source": [
    "#### Calculer la matrice de confusion"
   ]
  },
  {
   "cell_type": "code",
   "execution_count": 9,
   "metadata": {},
   "outputs": [],
   "source": [
    "classes = [\n",
    "    'Another party (please specify)',\n",
    "    'Bloc Qu<e9>b<e9>cois',\n",
    "    'Conservative Party',\n",
    "    \"Don't know/ Prefer not to answer\",\n",
    "    'Green Party',\n",
    "    'Liberal Party',\n",
    "    'ndp',\n",
    "    \"People's Party\"\n",
    "]\n",
    "classes_idx = [0, 1, 2, 3, 4, 5, 6, 7]"
   ]
  },
  {
   "cell_type": "code",
   "execution_count": 10,
   "metadata": {},
   "outputs": [
    {
     "data": {
      "image/png": "[encoded data removed]",
      "text/plain": [
       "<Figure size 432x288 with 2 Axes>"
      ]
     },
     "metadata": {
      "needs_background": "light"
     },
     "output_type": "display_data"
    }
   ],
   "source": [
    "cm = confusion_matrix(ground_truth, predicted_classes, labels=classes_idx)\n",
    "disp = ConfusionMatrixDisplay(confusion_matrix=cm)\n",
    "disp.plot()\n",
    "plt.show()"
   ]
  },
  {
   "cell_type": "markdown",
   "metadata": {},
   "source": [
    "#### Calculer les métriques de performance"
   ]
  },
  {
   "cell_type": "code",
   "execution_count": 11,
   "metadata": {},
   "outputs": [
    {
     "name": "stdout",
     "output_type": "stream",
     "text": [
      "Accuracy: 79.64%\n"
     ]
    },
    {
     "data": {
      "text/html": [
       "<div>\n",
       "<style scoped>\n",
       "    .dataframe tbody tr th:only-of-type {\n",
       "        vertical-align: middle;\n",
       "    }\n",
       "\n",
       "    .dataframe tbody tr th {\n",
       "        vertical-align: top;\n",
       "    }\n",
       "\n",
       "    .dataframe thead th {\n",
       "        text-align: right;\n",
       "    }\n",
       "</style>\n",
       "<table border=\"1\" class=\"dataframe\">\n",
       "  <thead>\n",
       "    <tr style=\"text-align: right;\">\n",
       "      <th></th>\n",
       "      <th>Precision</th>\n",
       "      <th>Recall</th>\n",
       "      <th>F1-Score</th>\n",
       "    </tr>\n",
       "  </thead>\n",
       "  <tbody>\n",
       "    <tr>\n",
       "      <th>Another party (please specify)</th>\n",
       "      <td>97.24%</td>\n",
       "      <td>100.00%</td>\n",
       "      <td>98.60%</td>\n",
       "    </tr>\n",
       "    <tr>\n",
       "      <th>Bloc Qu&lt;e9&gt;b&lt;e9&gt;cois</th>\n",
       "      <td>92.78%</td>\n",
       "      <td>99.13%</td>\n",
       "      <td>95.85%</td>\n",
       "    </tr>\n",
       "    <tr>\n",
       "      <th>Conservative Party</th>\n",
       "      <td>74.81%</td>\n",
       "      <td>67.71%</td>\n",
       "      <td>71.09%</td>\n",
       "    </tr>\n",
       "    <tr>\n",
       "      <th>Don't know/ Prefer not to answer</th>\n",
       "      <td>58.79%</td>\n",
       "      <td>50.76%</td>\n",
       "      <td>54.48%</td>\n",
       "    </tr>\n",
       "    <tr>\n",
       "      <th>Green Party</th>\n",
       "      <td>78.48%</td>\n",
       "      <td>88.75%</td>\n",
       "      <td>83.30%</td>\n",
       "    </tr>\n",
       "    <tr>\n",
       "      <th>Liberal Party</th>\n",
       "      <td>66.45%</td>\n",
       "      <td>64.00%</td>\n",
       "      <td>65.20%</td>\n",
       "    </tr>\n",
       "    <tr>\n",
       "      <th>ndp</th>\n",
       "      <td>69.66%</td>\n",
       "      <td>65.33%</td>\n",
       "      <td>67.43%</td>\n",
       "    </tr>\n",
       "    <tr>\n",
       "      <th>People's Party</th>\n",
       "      <td>91.30%</td>\n",
       "      <td>100.00%</td>\n",
       "      <td>95.45%</td>\n",
       "    </tr>\n",
       "  </tbody>\n",
       "</table>\n",
       "</div>"
      ],
      "text/plain": [
       "                                 Precision   Recall F1-Score\n",
       "Another party (please specify)      97.24%  100.00%   98.60%\n",
       "Bloc Qu<e9>b<e9>cois                92.78%   99.13%   95.85%\n",
       "Conservative Party                  74.81%   67.71%   71.09%\n",
       "Don't know/ Prefer not to answer    58.79%   50.76%   54.48%\n",
       "Green Party                         78.48%   88.75%   83.30%\n",
       "Liberal Party                       66.45%   64.00%   65.20%\n",
       "ndp                                 69.66%   65.33%   67.43%\n",
       "People's Party                      91.30%  100.00%   95.45%"
      ]
     },
     "execution_count": 11,
     "metadata": {},
     "output_type": "execute_result"
    }
   ],
   "source": [
    "accuracy = accuracy_score(ground_truth, predicted_classes)\n",
    "precision = precision_score(ground_truth, predicted_classes, average=None)\n",
    "recall = recall_score(ground_truth, predicted_classes, average=None)\n",
    "f1 = f1_score(ground_truth, predicted_classes, average=None)\n",
    "\n",
    "print(f\"Accuracy: {accuracy:.2%}\")\n",
    "\n",
    "df_metrics = pd.DataFrame({\"Precision\": precision, \"Recall\": recall, \"F1-Score\": f1}, index=classes)\n",
    "\n",
    "df_metrics = df_metrics.applymap(lambda x: f\"{x:.2%}\")\n",
    "df_metrics"
   ]
  }
 ],
 "metadata": {
  "interpreter": {
   "hash": "b3ba2566441a7c06988d0923437866b63cedc61552a5af99d1f4fb67d367b25f"
  },
  "kernelspec": {
   "display_name": "Python 3.8.8 ('base')",
   "language": "python",
   "name": "python3"
  },
  "language_info": {
   "codemirror_mode": {
    "name": "ipython",
    "version": 3
   },
   "file_extension": ".py",
   "mimetype": "text/x-python",
   "name": "python",
   "nbconvert_exporter": "python",
   "pygments_lexer": "ipython3",
   "version": "3.8.8"
  },
  "orig_nbformat": 4
 },
 "nbformat": 4,
 "nbformat_minor": 2
}
